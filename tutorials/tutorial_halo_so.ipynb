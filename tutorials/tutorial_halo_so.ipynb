{
 "cells": [
  {
   "cell_type": "markdown",
   "metadata": {},
   "source": [
    "# Colossus tutorial: Spherical overdensity mass and radius"
   ]
  },
  {
   "cell_type": "markdown",
   "metadata": {},
   "source": [
    "The most commonly used definitions of halo radius and mass are spherical overdensity definitions. Colossus provides convenient routines to convert between radius, mass, and different definitions."
   ]
  },
  {
   "cell_type": "code",
   "execution_count": 1,
   "metadata": {},
   "outputs": [],
   "source": [
    "from __future__ import print_function \n",
    "import numpy as np\n",
    "import matplotlib.pyplot as plt\n",
    "%matplotlib inline"
   ]
  },
  {
   "cell_type": "markdown",
   "metadata": {
    "collapsed": true
   },
   "source": [
    "As always with Colossus, we need to set a cosmology:"
   ]
  },
  {
   "cell_type": "code",
   "execution_count": 2,
   "metadata": {},
   "outputs": [],
   "source": [
    "from colossus.cosmology import cosmology\n",
    "cosmology.setCosmology('planck18');"
   ]
  },
  {
   "cell_type": "markdown",
   "metadata": {},
   "source": [
    "We begin with the spherical overdensity module, mass_so, which contains only routines that do not depend on a specific halo density profile."
   ]
  },
  {
   "cell_type": "code",
   "execution_count": 3,
   "metadata": {},
   "outputs": [],
   "source": [
    "from colossus.halo import mass_so"
   ]
  },
  {
   "cell_type": "markdown",
   "metadata": {},
   "source": [
    "First, let's look at some of the most commonly used density thresholds themselves. At high redshift, the \"virial\" overdensity threshold is equal to ~180 times the matter density, and the matter and critical densities are the same. At low redshift, these thresholds diverge:"
   ]
  },
  {
   "cell_type": "code",
   "execution_count": 4,
   "metadata": {},
   "outputs": [
    {
     "data": {
      "image/png": "[encoded data removed]",
      "text/plain": [
       "<Figure size 432x288 with 1 Axes>"
      ]
     },
     "metadata": {
      "needs_background": "light"
     },
     "output_type": "display_data"
    }
   ],
   "source": [
    "z = np.linspace(0.0, 3.0, 40)\n",
    "\n",
    "plt.figure()\n",
    "plt.yscale('log')\n",
    "plt.xlabel('z')\n",
    "plt.ylabel('density (Msun h2 / kpc3)')\n",
    "plt.plot(z, mass_so.densityThreshold(z, 'vir'), label = 'vir');\n",
    "plt.plot(z, mass_so.densityThreshold(z, '180m'), label = '180m');\n",
    "plt.plot(z, mass_so.densityThreshold(z, '180c'), label = '180c');\n",
    "plt.legend();"
   ]
  },
  {
   "cell_type": "markdown",
   "metadata": {},
   "source": [
    "Note that Colossus can handle any overdensity that is a multiple of the critical or mean densities, e.g. `2467m` or `155c`. We can convert mass and radius into each other, for example, let's get the virial radius of a halo of virial mass $10^{12}M_{\\odot}/h$ at $z = 0.5$, and convert it back:"
   ]
  },
  {
   "cell_type": "code",
   "execution_count": 5,
   "metadata": {},
   "outputs": [
    {
     "name": "stdout",
     "output_type": "stream",
     "text": [
      "152.65387779316436\n",
      "999999999999.9993\n"
     ]
    }
   ],
   "source": [
    "R = mass_so.M_to_R(1E12, 0.5, 'vir')\n",
    "print(R)\n",
    "M2 = mass_so.R_to_M(R, 0.5, 'vir')\n",
    "print(M2)"
   ]
  },
  {
   "cell_type": "markdown",
   "metadata": {},
   "source": [
    "For any more advanced computations, we need to assume a particular form of the halo density profile. Such functions are located in the `mass_defs` and `mass_adv` modules."
   ]
  },
  {
   "cell_type": "code",
   "execution_count": 6,
   "metadata": {},
   "outputs": [],
   "source": [
    "from colossus.halo import mass_defs\n",
    "from colossus.halo import mass_adv"
   ]
  },
  {
   "cell_type": "markdown",
   "metadata": {},
   "source": [
    "For example, let's convert a virial halo mass to another SO definition, say `200c`. Internally, this function makes an assumption about the density profile of the halo, by default an NFW profile. Thus, we need to pass a concentration as well as a mass:"
   ]
  },
  {
   "cell_type": "code",
   "execution_count": 7,
   "metadata": {},
   "outputs": [
    {
     "name": "stdout",
     "output_type": "stream",
     "text": [
      "0.9033980276043683\n",
      "0.8563531822247634\n"
     ]
    }
   ],
   "source": [
    "Mvir = 1E12\n",
    "cvir = 7.0\n",
    "M200c, R200c, c200c = mass_defs.changeMassDefinition(Mvir, cvir, 0.5, 'vir', '200c')\n",
    "print(M200c / Mvir)\n",
    "print(c200c / cvir)"
   ]
  },
  {
   "cell_type": "markdown",
   "metadata": {},
   "source": [
    "As expected, both $M_{\\rm 200c}$ and $c_{\\rm 200c}$ are smaller than their virial counterparts. If we don't want to set the concentration manually, we can also use a model to estimate it:"
   ]
  },
  {
   "cell_type": "code",
   "execution_count": 8,
   "metadata": {},
   "outputs": [
    {
     "name": "stdout",
     "output_type": "stream",
     "text": [
      "0.9057334947804403\n",
      "0.9025807997419839\n"
     ]
    }
   ],
   "source": [
    "M200c, R200c, c200c = mass_adv.changeMassDefinitionCModel(Mvir, 0.5, 'vir', '200c')\n",
    "print(M200c / Mvir)\n",
    "print(c200c / cvir)"
   ]
  },
  {
   "cell_type": "markdown",
   "metadata": {},
   "source": [
    "We get similar results because the assumption $c_{\\rm vir} = 7$ wasn't crazy. The `changeMassDefinition()` function is a wrapper around a more general function called `evolveSO()` which finds spherical overdensity radii and masses under the assumption that a profile is static. The name refers to pseudo-evolution, the change in mass and radius over time due to the changing mass definition (see, e.g., [Diemer et al. 2013](http://adsabs.harvard.edu/abs/2013ApJ...766...25D)). Let's see how much a halo pseudo-evolves between $z = 1$ and $z = 0$ if it's profile doesn't change at all:"
   ]
  },
  {
   "cell_type": "code",
   "execution_count": 9,
   "metadata": {},
   "outputs": [
    {
     "name": "stdout",
     "output_type": "stream",
     "text": [
      "1.4435569159016521\n"
     ]
    }
   ],
   "source": [
    "Mvir_z1 = 1E12\n",
    "cvir_z1 = 7.0\n",
    "Mvir_z0, Rvir_z0, cvir_z0 = mass_defs.pseudoEvolve(Mvir_z1, cvir_z1, 'vir', 1.0, 0.0) \n",
    "print(Mvir_z0 / Mvir_z1)"
   ]
  },
  {
   "cell_type": "markdown",
   "metadata": {},
   "source": [
    "The mass of the halo has increased by 44% by $z = 0$. Note that this does not mean that the halo did not accrete any real mass: the total evolution is the combination of physical accretion and pseudo-evolution. Moreover, if the halo accreted mass outside of the virial radius, that is not taken into account in the virial mass. Thus, the evolution in SO masses can over- or underestimate the true mass evolution of halos."
   ]
  }
 ],
 "metadata": {
  "kernelspec": {
   "display_name": "Python 3",
   "language": "python",
   "name": "python3"
  },
  "language_info": {
   "codemirror_mode": {
    "name": "ipython",
    "version": 3
   },
   "file_extension": ".py",
   "mimetype": "text/x-python",
   "name": "python",
   "nbconvert_exporter": "python",
   "pygments_lexer": "ipython3",
   "version": "3.7.12"
  }
 },
 "nbformat": 4,
 "nbformat_minor": 2
}
