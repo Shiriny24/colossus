{
 "cells": [
  {
   "cell_type": "markdown",
   "metadata": {},
   "source": [
    "# Colossus tutorial: halo concentration"
   ]
  },
  {
   "cell_type": "markdown",
   "metadata": {},
   "source": [
    "Welcome to the Colossus concentration demo. Concentration is defined as the ratio of the outer radius of a halo to the scale radius, a concept that goes back to the Navarro, Frenk & White papers that proposed the NFW density profile. The colossus concentration module implements a number of models for the mean or median concentration of halos."
   ]
  },
  {
   "cell_type": "code",
   "execution_count": 1,
   "metadata": {
    "collapsed": true
   },
   "outputs": [],
   "source": [
    "from __future__ import print_function \n",
    "import numpy as np\n",
    "import matplotlib.pyplot as plt\n",
    "%matplotlib inline"
   ]
  },
  {
   "cell_type": "markdown",
   "metadata": {},
   "source": [
    "As always with colossus, we need to set a cosmology."
   ]
  },
  {
   "cell_type": "code",
   "execution_count": 2,
   "metadata": {
    "collapsed": true
   },
   "outputs": [],
   "source": [
    "from colossus.cosmology import cosmology\n",
    "cosmology.setCosmology('planck15');"
   ]
  },
  {
   "cell_type": "markdown",
   "metadata": {},
   "source": [
    "Let's import the concentration module:"
   ]
  },
  {
   "cell_type": "code",
   "execution_count": 3,
   "metadata": {
    "collapsed": true
   },
   "outputs": [],
   "source": [
    "from colossus.halo import concentration"
   ]
  },
  {
   "cell_type": "markdown",
   "metadata": {},
   "source": [
    "Now we can evaluate concentrations for a range of models of the c-M relation. First, let's list the models Colossus implements:"
   ]
  },
  {
   "cell_type": "code",
   "execution_count": 4,
   "metadata": {},
   "outputs": [
    {
     "name": "stdout",
     "output_type": "stream",
     "text": [
      "bullock01\n",
      "duffy08\n",
      "klypin11\n",
      "prada12\n",
      "bhattacharya13\n",
      "dutton14\n",
      "diemer15\n",
      "klypin16_m\n",
      "klypin16_nu\n"
     ]
    }
   ],
   "source": [
    "for model_name in concentration.models:\n",
    "    print(model_name)"
   ]
  },
  {
   "cell_type": "markdown",
   "metadata": {},
   "source": [
    "While there are functions for each of these models, the easier way to use the concentration module is through the unified concentration() interface. This function does a number of things: it converts between mass definitions, checks the validity of models and so on. Let's say we want to use the Bullock et al. 2001 model to get the concentration of a halo with virial mass 1E12 at z = 0.5:"
   ]
  },
  {
   "cell_type": "code",
   "execution_count": 5,
   "metadata": {},
   "outputs": [
    {
     "data": {
      "text/plain": [
       "7.372292646470326"
      ]
     },
     "execution_count": 5,
     "metadata": {},
     "output_type": "execute_result"
    }
   ],
   "source": [
    "concentration.concentration(1E12, 'vir', 0.5, model = 'bullock01')"
   ]
  },
  {
   "cell_type": "markdown",
   "metadata": {},
   "source": [
    "Of course, the function also accepts an array of masses, and returns an array of concentrations:"
   ]
  },
  {
   "cell_type": "code",
   "execution_count": 6,
   "metadata": {},
   "outputs": [
    {
     "data": {
      "text/plain": [
       "array([ 11.07951221,   9.14711768,   7.37229265,   5.7963067 ,   4.48451196])"
      ]
     },
     "execution_count": 6,
     "metadata": {},
     "output_type": "execute_result"
    }
   ],
   "source": [
    "M = 10**np.arange(10.0, 15.0, 1.0)\n",
    "concentration.concentration(M, 'vir', 0.5, model = 'bullock01')"
   ]
  },
  {
   "cell_type": "markdown",
   "metadata": {},
   "source": [
    "However, not all models were constrained at all masses and redshifts, and Colossus can warn us in such cases:"
   ]
  },
  {
   "cell_type": "code",
   "execution_count": 7,
   "metadata": {},
   "outputs": [
    {
     "name": "stderr",
     "output_type": "stream",
     "text": [
      "/Users/benedito/University/Codes/colossus_dev/colossus/halo/concentration.py:331: UserWarning: Some masses or redshifts are outside the validity of the concentration model.\n",
      "  warnings.warn('Some masses or redshifts are outside the validity of the concentration model.')\n"
     ]
    },
    {
     "data": {
      "text/plain": [
       "array([ 11.33628686,   9.32117855,   7.66427055,   6.30189013,   5.18168284])"
      ]
     },
     "execution_count": 7,
     "metadata": {},
     "output_type": "execute_result"
    }
   ],
   "source": [
    "concentration.concentration(M, 'vir', 0.5, model = 'dutton14')"
   ]
  },
  {
   "cell_type": "markdown",
   "metadata": {},
   "source": [
    "The power-law model of Dutton & Maccio 2014 should probably not be used outside the range of masses where it was constrained. But which masses are valid and which aren't? Using the range_return parameter, we can get the function to return a mask that indicates the validity:"
   ]
  },
  {
   "cell_type": "code",
   "execution_count": 8,
   "metadata": {},
   "outputs": [
    {
     "name": "stdout",
     "output_type": "stream",
     "text": [
      "[False  True  True  True  True]\n",
      "[ 9.32117855  7.66427055  6.30189013  5.18168284]\n"
     ]
    }
   ],
   "source": [
    "c, mask = concentration.concentration(M, 'vir', 0.5, model = 'dutton14', range_return = True)\n",
    "print(mask)\n",
    "print(c[mask])"
   ]
  },
  {
   "cell_type": "markdown",
   "metadata": {},
   "source": [
    "Only the lowest mass bin is outside the range, so we won't use that. One thing the concentration module does *not* check is the cosmology: if a model was calibrated only for a particular cosmology, it can still be evaluated even if a different cosmology is set. For example:"
   ]
  },
  {
   "cell_type": "code",
   "execution_count": 9,
   "metadata": {},
   "outputs": [
    {
     "data": {
      "text/plain": [
       "6.226274912879475"
      ]
     },
     "execution_count": 9,
     "metadata": {},
     "output_type": "execute_result"
    }
   ],
   "source": [
    "concentration.concentration(1E12, 'vir', 0.5, model = 'duffy08')"
   ]
  },
  {
   "cell_type": "markdown",
   "metadata": {},
   "source": [
    "The Duffy et al. 2008 model was calibrated for a WMAP5 cosmology, so care needs to be taken if we're working in a Planck 2015 cosmology (as set above). Let's put it all together and compare the models implemented in Colossus:"
   ]
  },
  {
   "cell_type": "code",
   "execution_count": 10,
   "metadata": {},
   "outputs": [
    {
     "data": {
      "image/png": "[encoded data removed]",
      "text/plain": [
       "<matplotlib.figure.Figure at 0x107e5c160>"
      ]
     },
     "metadata": {},
     "output_type": "display_data"
    }
   ],
   "source": [
    "cosmology.setCosmology('bolshoi')\n",
    "M = 10**np.arange(8.0, 15.4, 0.1)\n",
    "\n",
    "plt.figure()\n",
    "plt.xscale('log')\n",
    "plt.xlabel('M200c(Msun/h)')\n",
    "plt.ylabel('Concentration')\n",
    "for model_name in concentration.models:\n",
    "    c, mask = concentration.concentration(M, '200c', 0.0, model = model_name, range_return = True)\n",
    "    plt.plot(M[mask], c[mask], label = model_name.replace('_', '\\_'))\n",
    "plt.ylim(2.0, 18.0)\n",
    "plt.legend();"
   ]
  }
 ],
 "metadata": {
  "kernelspec": {
   "display_name": "Python 3",
   "language": "python",
   "name": "python3"
  },
  "language_info": {
   "codemirror_mode": {
    "name": "ipython",
    "version": 3
   },
   "file_extension": ".py",
   "mimetype": "text/x-python",
   "name": "python",
   "nbconvert_exporter": "python",
   "pygments_lexer": "ipython3",
   "version": "3.5.4"
  }
 },
 "nbformat": 4,
 "nbformat_minor": 2
}
