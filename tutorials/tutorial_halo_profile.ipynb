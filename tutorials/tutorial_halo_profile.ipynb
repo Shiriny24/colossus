{
 "cells": [
  {
   "cell_type": "markdown",
   "metadata": {},
   "source": [
    "# Colossus tutorial: halo density profiles"
   ]
  },
  {
   "cell_type": "markdown",
   "metadata": {},
   "source": [
    "Welcome to the halo density profile tutorial."
   ]
  },
  {
   "cell_type": "code",
   "execution_count": null,
   "metadata": {
    "collapsed": true
   },
   "outputs": [],
   "source": [
    "from __future__ import print_function \n",
    "import numpy as np\n",
    "import matplotlib.pyplot as plt\n",
    "%matplotlib inline"
   ]
  },
  {
   "cell_type": "markdown",
   "metadata": {},
   "source": [
    "As always with colossus, we need to set a cosmology."
   ]
  },
  {
   "cell_type": "code",
   "execution_count": null,
   "metadata": {
    "collapsed": true
   },
   "outputs": [],
   "source": [
    "from colossus.cosmology import cosmology\n",
    "cosmo = cosmology.setCosmology('planck15');"
   ]
  },
  {
   "cell_type": "markdown",
   "metadata": {},
   "source": [
    "## Profile basics"
   ]
  },
  {
   "cell_type": "markdown",
   "metadata": {},
   "source": [
    "The density profile module in colossus is object-oriented: it contains a base class for all density profiles, and classes for specific models that are derived from the base class. Those derived classes need to implement only one function (density), but can overwrite other functions, for example if there are analytical solutions for quantities that would otherwise need to be computed numerically. At first, we don't need to concern ourselves with this architecture though.\n",
    "\n",
    "To get started, let's create different density profile predictions for a massive cluster halo at z = 0. Profiles can often be initialized by different sets of parameters. For example, an NFW profile can take it's native parameters (central density and scale radius), but can also be initialized using the mass and concentration:"
   ]
  },
  {
   "cell_type": "code",
   "execution_count": null,
   "metadata": {},
   "outputs": [],
   "source": [
    "from colossus.halo import profile_nfw\n",
    "\n",
    "Mvir = 1E15\n",
    "cvir = 5.0\n",
    "z = 0.0\n",
    "p_nfw = profile_nfw.NFWProfile(M = Mvir, c = cvir, z = z, mdef = 'vir')\n",
    "\n",
    "r = 10**np.arange(0,4,0.02)\n",
    "rho_m = cosmo.rho_m(z)\n",
    "rho_nfw = p_nfw.density(r)\n",
    "\n",
    "plt.figure()\n",
    "plt.loglog()\n",
    "plt.xlabel('r(kpc/h)')\n",
    "plt.ylabel('density / mean')\n",
    "plt.plot(r, rho_nfw / rho_m, '-', label = 'NFW');\n",
    "plt.ylim(1E0, 1E7)\n",
    "plt.legend();"
   ]
  },
  {
   "cell_type": "markdown",
   "metadata": {},
   "source": [
    "Let's compute the predictions of other profile models for the same halo:"
   ]
  },
  {
   "cell_type": "code",
   "execution_count": null,
   "metadata": {
    "collapsed": true
   },
   "outputs": [],
   "source": [
    "from colossus.halo import profile_einasto\n",
    "from colossus.halo import profile_dk14\n",
    "\n",
    "p_einasto = profile_einasto.EinastoProfile(M = Mvir, c = cvir, z = z, mdef = 'vir')\n",
    "p_dk14 = profile_dk14.DK14Profile(M = Mvir, c = cvir, z = z, mdef = 'vir')\n",
    "\n",
    "rho_einasto = p_einasto.density(r)\n",
    "rho_dk14 = p_dk14.density(r)"
   ]
  },
  {
   "cell_type": "markdown",
   "metadata": {},
   "source": [
    "Let's add the scale radius and virial radius for the NFW profile for clarity. Spherical overdensity radii and masses can be obtained with the RDelta/MDelta functions. The scale radius is part of the internal parameters of the NFW model, and is thus an entry in the par dictionary that each profile holds:"
   ]
  },
  {
   "cell_type": "code",
   "execution_count": null,
   "metadata": {},
   "outputs": [],
   "source": [
    "Rvir_nfw = p_nfw.RDelta(z, 'vir')\n",
    "print(p_nfw.par)\n",
    "rs = p_nfw.par['rs']"
   ]
  },
  {
   "cell_type": "markdown",
   "metadata": {},
   "source": [
    "The contents of this dictionary will vary between profile models. For example, for the Einasto profile, it also contains the alpha parameter which determines how fast the profile steepens:"
   ]
  },
  {
   "cell_type": "code",
   "execution_count": null,
   "metadata": {},
   "outputs": [],
   "source": [
    "print(p_einasto.par)"
   ]
  },
  {
   "cell_type": "markdown",
   "metadata": {},
   "source": [
    "Anyway, let's put all of that into a plot:"
   ]
  },
  {
   "cell_type": "code",
   "execution_count": null,
   "metadata": {},
   "outputs": [],
   "source": [
    "plt.figure()\n",
    "plt.loglog()\n",
    "plt.xlabel('r(kpc/h)')\n",
    "plt.ylabel('density / mean')\n",
    "plt.plot(r, rho_nfw / rho_m, '-', label = 'NFW');\n",
    "plt.plot(r, rho_einasto / rho_m, '-', label = 'Einasto');\n",
    "plt.plot(r, rho_dk14 / rho_m, '-', label = 'DK14');\n",
    "plt.axvline(Rvir_nfw, ls = '--', label = 'Rvir (NFW)');\n",
    "plt.axvline(rs, ls = ':', label = 'rs (NFW)');\n",
    "plt.ylim(1E0, 1E7)\n",
    "plt.legend();"
   ]
  },
  {
   "cell_type": "markdown",
   "metadata": {
    "collapsed": true
   },
   "source": [
    "Of course, we can plot numerous quantities other than density, for example surface density. Please see the documentation of the HaloDensityProfile base class for an exhaustive list."
   ]
  },
  {
   "cell_type": "code",
   "execution_count": null,
   "metadata": {},
   "outputs": [],
   "source": [
    "Sigma_nfw = p_nfw.surfaceDensity(r)\n",
    "Sigma_einasto = p_einasto.surfaceDensity(r)\n",
    "Sigma_dk14 = p_dk14.surfaceDensity(r)\n",
    "\n",
    "plt.figure()\n",
    "plt.loglog()\n",
    "plt.xlabel('r(kpc/h)')\n",
    "plt.ylabel('surface density')\n",
    "plt.plot(r, Sigma_nfw, '-', label = 'NFW');\n",
    "plt.plot(r, Sigma_einasto, '-', label = 'Einasto');\n",
    "plt.plot(r, Sigma_dk14, '-', label = 'DK14');\n",
    "plt.ylim(1E6, 1E10)\n",
    "plt.legend();"
   ]
  },
  {
   "cell_type": "markdown",
   "metadata": {},
   "source": [
    "## The outer profile"
   ]
  },
  {
   "cell_type": "markdown",
   "metadata": {},
   "source": [
    "The differences between profiles in the plot above are mostly apparent at small and large radii. But at large radii, the profile becomes complicated due to non-linear infall and the contribution from other halos (the 2-halo term). In Colossus, such components can be added to the profiles:"
   ]
  },
  {
   "cell_type": "code",
   "execution_count": null,
   "metadata": {
    "collapsed": true
   },
   "outputs": [],
   "source": [
    "from colossus.halo import profile_outer\n",
    "\n",
    "outer_term_mean = profile_outer.OuterTermMeanDensity(z = z)\n",
    "p_nfw = profile_nfw.NFWProfile(M = Mvir, c = cvir, z = z, mdef = 'vir', outer_terms = [outer_term_mean])"
   ]
  },
  {
   "cell_type": "markdown",
   "metadata": {},
   "source": [
    "For the DK14 profile, power-law outer profiles are standard and can be generated with a wrapper function:"
   ]
  },
  {
   "cell_type": "code",
   "execution_count": null,
   "metadata": {
    "collapsed": true
   },
   "outputs": [],
   "source": [
    "p_dk14 = profile_dk14.getDK14ProfileWithOuterTerms(M = Mvir, c = cvir, z = z, mdef = 'vir', outer_term_names = ['pl'])"
   ]
  },
  {
   "cell_type": "markdown",
   "metadata": {},
   "source": [
    "Now let's plot a comparison of the profiles with outer terms:"
   ]
  },
  {
   "cell_type": "code",
   "execution_count": null,
   "metadata": {},
   "outputs": [],
   "source": [
    "rho_nfw = p_nfw.density(r)\n",
    "rho_einasto = p_einasto.density(r)\n",
    "rho_dk14 = p_dk14.density(r)\n",
    "\n",
    "plt.figure()\n",
    "plt.loglog()\n",
    "plt.xlabel('r(kpc/h)')\n",
    "plt.ylabel('density / mean')\n",
    "plt.plot(r, rho_nfw / rho_m, '-', label = 'NFW');\n",
    "plt.plot(r, rho_einasto / rho_m, '-', label = 'Einasto');\n",
    "plt.plot(r, rho_dk14 / rho_m, '-', label = 'DK14');\n",
    "plt.ylim(1E0, 1E7)\n",
    "plt.legend();"
   ]
  },
  {
   "cell_type": "markdown",
   "metadata": {},
   "source": [
    "Let's add an outer term based on the correlation function to the NFW profile. We compute the bias from the Tinker et al. 2010 bias model:"
   ]
  },
  {
   "cell_type": "code",
   "execution_count": null,
   "metadata": {},
   "outputs": [],
   "source": [
    "from colossus.lss import bias\n",
    "b = bias.haloBias(Mvir, z, 'vir')\n",
    "print(b)\n",
    "outer_term_xi = profile_outer.OuterTermCorrelationFunction(z = z, bias = b)\n",
    "p_nfw = profile_nfw.NFWProfile(M = Mvir, c = cvir, z = z, mdef = 'vir', outer_terms = [outer_term_xi])"
   ]
  },
  {
   "cell_type": "markdown",
   "metadata": {},
   "source": [
    "The differences in the outer profiles are more apparent if we plot the slope instead:"
   ]
  },
  {
   "cell_type": "code",
   "execution_count": null,
   "metadata": {},
   "outputs": [],
   "source": [
    "r = 10**np.arange(2,3.9,0.02)\n",
    "slope_nfw = p_nfw.densityDerivativeLog(r)\n",
    "slope_einasto = p_einasto.densityDerivativeLog(r)\n",
    "slope_dk14 = p_dk14.densityDerivativeLog(r)\n",
    "\n",
    "plt.figure()\n",
    "plt.xscale('log')\n",
    "plt.xlabel('r(kpc/h)')\n",
    "plt.ylabel('Logarithmic slope')\n",
    "plt.plot(r, slope_nfw, '-', label = 'NFW + 2-halo term');\n",
    "plt.plot(r, slope_einasto, '-', label = 'Einasto (no outer profile)');\n",
    "plt.plot(r, slope_dk14, '-', label = 'DK14 (power-law outer profile)');\n",
    "plt.ylim(-4, -1)\n",
    "plt.legend();"
   ]
  },
  {
   "cell_type": "markdown",
   "metadata": {},
   "source": [
    "## Profile fitting"
   ]
  },
  {
   "cell_type": "markdown",
   "metadata": {},
   "source": [
    "Let's generate an NFW profile of surface density and some scattered fake data round it:"
   ]
  },
  {
   "cell_type": "code",
   "execution_count": null,
   "metadata": {
    "scrolled": true
   },
   "outputs": [],
   "source": [
    "# Generate NFW profile\n",
    "Mvir = 1E12\n",
    "cvir = 7.0\n",
    "p = profile_nfw.NFWProfile(M = Mvir, c = cvir, z = 0.0, mdef = 'vir')\n",
    "\n",
    "# Generate random scatter around the true surface density profile\n",
    "r = 10**np.arange(0.1, 3.6, 0.1)\n",
    "sigma_true = p.surfaceDensity(r)\n",
    "np.random.seed(155)\n",
    "sigma_err = np.abs(np.random.normal(0.2, 0.1, (len(r)))) * sigma_true\n",
    "sigma = sigma_true.copy()\n",
    "for i in range(len(r)):\n",
    "    sigma[i] += np.random.normal(0.0, sigma_err[i])\n",
    "\n",
    "plt.figure()\n",
    "plt.loglog()\n",
    "plt.xlim(1E0, 5E3)\n",
    "plt.ylim(8E3, 1E9)\n",
    "plt.xlabel('r(kpc/h)')\n",
    "plt.ylabel('Surface density')\n",
    "plt.plot(r, sigma_true, '-', color = 'deepskyblue', label = 'True')\n",
    "plt.legend()\n",
    "plt.errorbar(r, sigma, yerr = sigma_err, fmt = '.', marker = 'o', ms = 4.0, color = 'darkblue', label = 'Data')\n",
    "plt.legend();"
   ]
  },
  {
   "cell_type": "markdown",
   "metadata": {},
   "source": [
    "Now let's generate a bad initial guess of the NFW profile, and recover it by fitting. First, let's see what the true parameters of the NFW profile are. The mask tells the fitter to fit all parameters, whereas False elements are held fixed."
   ]
  },
  {
   "cell_type": "code",
   "execution_count": null,
   "metadata": {},
   "outputs": [],
   "source": [
    "mask = np.array([True, True])\n",
    "x_true = p.getParameterArray(mask)\n",
    "print(x_true)"
   ]
  },
  {
   "cell_type": "markdown",
   "metadata": {},
   "source": [
    "We generate a bad initial guess and set the profile parameters to that guess:"
   ]
  },
  {
   "cell_type": "code",
   "execution_count": null,
   "metadata": {
    "collapsed": true
   },
   "outputs": [],
   "source": [
    "ini_guess = x_true * 1.5\n",
    "p.setParameterArray(ini_guess, mask = mask)\n",
    "sigma_ini = p.surfaceDensity(r)"
   ]
  },
  {
   "cell_type": "markdown",
   "metadata": {},
   "source": [
    "Now fit the profile to the data. The fit() function has many more parameters than discussed here. For example, it can handle covariance matrices, use an MCMC instead of least-squares, and fit density, surface density, enclosed mass and so on. The function's outputs are gathered in one dictionary."
   ]
  },
  {
   "cell_type": "code",
   "execution_count": null,
   "metadata": {},
   "outputs": [],
   "source": [
    "dict = p.fit(r, sigma, 'Sigma', q_err = sigma_err, mask = mask)\n",
    "sigma_fit = dict['q_fit']"
   ]
  },
  {
   "cell_type": "markdown",
   "metadata": {},
   "source": [
    "The fitter output tells us that we've recovered the input parameters quite exactly. We also get error estimates and a lot of other output. Let's put it all together in a plot:"
   ]
  },
  {
   "cell_type": "code",
   "execution_count": null,
   "metadata": {},
   "outputs": [],
   "source": [
    "plt.figure()\n",
    "plt.loglog()\n",
    "plt.xlim(1E0, 5E3)\n",
    "plt.ylim(8E3, 1E9)\n",
    "plt.xlabel('r(kpc/h)')\n",
    "plt.ylabel('Surface density')\n",
    "plt.plot(r, sigma_true, '-', color = 'deepskyblue', label = 'True')\n",
    "plt.plot(r, sigma_ini, ':', color = 'purple', label = 'Initial guess')\n",
    "plt.plot(r, sigma_fit, '--', color = 'firebrick', lw = 1.5, label = 'Fit')\n",
    "plt.legend()\n",
    "plt.errorbar(r, sigma, yerr = sigma_err, fmt = '.', marker = 'o', ms = 4.0, color = 'darkblue', label = 'Data')\n",
    "plt.legend();"
   ]
  },
  {
   "cell_type": "markdown",
   "metadata": {},
   "source": [
    "Besides the standard least-squares fit, colossus also has an MCMC fitter (contributed by Andrey Kravtsov). The code below once again creates a fiducial NFW profile with some noise, but this time fits it using both least-squares and MCMC. Due to the large number of evaluations, MCMC fits can get very slow, especially if computationally expensive quantities such as the surface density profile are fit."
   ]
  },
  {
   "cell_type": "code",
   "execution_count": null,
   "metadata": {},
   "outputs": [],
   "source": [
    "# Create a \"true\" NFW profile\n",
    "cosmology.setCosmology('WMAP9')\n",
    "rhos = 1E6\n",
    "rs = 50.0\n",
    "prof = profile_nfw.NFWProfile(rhos = rhos, rs = rs)\n",
    "\n",
    "# Create a fake dataset with some noise\n",
    "r = 10**np.arange(0.1, 3.0, 0.3)\n",
    "rr = 10**np.arange(0.0, 3.0, 0.1)\n",
    "rho_data = prof.density(r)\n",
    "sigma = 0.25 * rho_data\n",
    "np.random.seed(156)\n",
    "rho_data += np.random.normal(0.0, sigma, len(r))\n",
    "\n",
    "# Move the profile parameters away from the initial values\n",
    "prof.setParameterArray([prof.par['rhos'] * 0.4, prof.par['rs'] * 3.0])\n",
    "\n",
    "# Fit to the fake data using least-squares, compute the fitted profile\n",
    "prof.fit(r, rho_data, 'rho', q_err = sigma, method = 'leastsq')\n",
    "rho_fit_leastsq = prof.density(rr)\n",
    "\n",
    "# Fit to the fake data using MCMC, compute the fitted profile\n",
    "prof.fit(r, rho_data, 'rho', q_err = sigma, method = 'mcmc', convergence_step = 500)\n",
    "rho_fit_mcmc = prof.density(rr)\n",
    "\n",
    "plt.figure()\n",
    "plt.loglog()\n",
    "plt.xlabel('r(kpc/h)')\n",
    "plt.ylabel('Density')\n",
    "plt.errorbar(r, rho_data, yerr = sigma, fmt = 'o', ms = 5.0)\n",
    "plt.plot(rr, rho_fit_leastsq, '-', label = 'least-squares')\n",
    "plt.plot(rr, rho_fit_mcmc, '--', label = 'mcmc')\n",
    "plt.legend()\n",
    "plt.show()"
   ]
  },
  {
   "cell_type": "markdown",
   "metadata": {},
   "source": [
    "## Creating a new density profile model"
   ]
  },
  {
   "cell_type": "markdown",
   "metadata": {
    "collapsed": true
   },
   "source": [
    "While the most commonly used density profile models are implemented in colossus, you may well want to overwrite the HaloDensityProfile base class yourself. For example, let's implement the Hernquist (1990) model:"
   ]
  },
  {
   "cell_type": "code",
   "execution_count": null,
   "metadata": {
    "collapsed": true
   },
   "outputs": [],
   "source": [
    "from colossus.halo import profile_base\n",
    "\n",
    "class HernquistProfile(profile_base.HaloDensityProfile):\n",
    "\n",
    "    def __init__(self, rhos, rs):\n",
    "\n",
    "        self.par_names = ['rhos', 'rs']\n",
    "        self.opt_names = []\n",
    "        profile_base.HaloDensityProfile.__init__(self)\n",
    "\n",
    "        self.par['rhos'] = rhos\n",
    "        self.par['rs'] = rs\n",
    "\n",
    "        return\n",
    "\n",
    "    def densityInner(self, r):\n",
    "\n",
    "        x = r / self.par['rs']\n",
    "        density = self.par['rhos'] / x / (1.0 + x)**3\n",
    "\n",
    "        return density"
   ]
  },
  {
   "cell_type": "markdown",
   "metadata": {
    "collapsed": true
   },
   "source": [
    "In the constructor, we had to make the profile class conscious of its internal parameters (central density and scale radius, just as for the NFW profile). This self-awareness is necessary for the fitting routines. Other than that, the only function we had to overwrite was densityInner(). Note that our new constructor does not yet have the ability to convert mass and concentration to central density and scale radius. Thus, we use an NFW profile to obtain a reasonable central density and scale radius:"
   ]
  },
  {
   "cell_type": "code",
   "execution_count": null,
   "metadata": {
    "collapsed": true,
    "scrolled": true
   },
   "outputs": [],
   "source": [
    "Mvir = 1E12\n",
    "cvir = 7.0\n",
    "p_nfw = profile_nfw.NFWProfile(M = Mvir, c = cvir, z = z, mdef = 'vir')\n",
    "rhos = p_nfw.par['rhos']\n",
    "rs = p_nfw.par['rs']\n",
    "p_hernquist = HernquistProfile(rhos = rhos, rs = rs)"
   ]
  },
  {
   "cell_type": "markdown",
   "metadata": {},
   "source": [
    "Now we can use our new profile object in all the same ways demonstrated above, including all the functionality of the base class. For example, we can evaluate the surface density profile even though we never told our new class how to compute that:"
   ]
  },
  {
   "cell_type": "code",
   "execution_count": null,
   "metadata": {
    "scrolled": true
   },
   "outputs": [],
   "source": [
    "r = 10**np.arange(0,3,0.02)\n",
    "Sigma_nfw = p_nfw.surfaceDensity(r)\n",
    "Sigma_hernquist = p_hernquist.surfaceDensity(r)\n",
    "\n",
    "plt.figure()\n",
    "plt.loglog()\n",
    "plt.xlabel('r(kpc/h)')\n",
    "plt.ylabel('Surface density')\n",
    "plt.plot(r, Sigma_nfw, '-', label = 'NFW');\n",
    "plt.plot(r, Sigma_hernquist, '-', label = 'Hernquist');\n",
    "plt.ylim(1E5, 1E9)\n",
    "plt.legend();"
   ]
  },
  {
   "cell_type": "markdown",
   "metadata": {},
   "source": [
    "Note, however, that certain functions might be less accurate or relatively slow. For example, the slope of the density profile would be computed numerically - in the case of the Hernquist profile, it would make sense to overwrite that function using the analytical expression for the slope."
   ]
  }
 ],
 "metadata": {
  "kernelspec": {
   "display_name": "Python 3",
   "language": "python",
   "name": "python3"
  },
  "language_info": {
   "codemirror_mode": {
    "name": "ipython",
    "version": 3
   },
   "file_extension": ".py",
   "mimetype": "text/x-python",
   "name": "python",
   "nbconvert_exporter": "python",
   "pygments_lexer": "ipython3",
   "version": "3.5.3"
  }
 },
 "nbformat": 4,
 "nbformat_minor": 2
}
