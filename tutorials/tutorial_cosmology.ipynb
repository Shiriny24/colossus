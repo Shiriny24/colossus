{
 "cells": [
  {
   "cell_type": "markdown",
   "metadata": {},
   "source": [
    "# Colossus tutorial: Cosmology"
   ]
  },
  {
   "cell_type": "markdown",
   "metadata": {},
   "source": [
    "Welcome to the Colossus cosmology tutorial."
   ]
  },
  {
   "cell_type": "code",
   "execution_count": 1,
   "metadata": {},
   "outputs": [],
   "source": [
    "from __future__ import print_function \n",
    "import matplotlib.pyplot as plt\n",
    "import copy\n",
    "%matplotlib inline"
   ]
  },
  {
   "cell_type": "markdown",
   "metadata": {},
   "source": [
    "## Setting, changing, and adjusting cosmologies"
   ]
  },
  {
   "cell_type": "markdown",
   "metadata": {},
   "source": [
    "Let's begin by importing the Colossus cosmology module:"
   ]
  },
  {
   "cell_type": "code",
   "execution_count": 2,
   "metadata": {},
   "outputs": [],
   "source": [
    "from colossus.cosmology import cosmology"
   ]
  },
  {
   "cell_type": "markdown",
   "metadata": {},
   "source": [
    "If this call results in an error, please see the chapter [Installation](https://bdiemer.bitbucket.io/colossus/installation.html) in the documentation. Let's set a cosmology, e.g. the most recent Planck cosmology. This function returns a cosmology object:"
   ]
  },
  {
   "cell_type": "code",
   "execution_count": 3,
   "metadata": {},
   "outputs": [],
   "source": [
    "cosmo = cosmology.setCosmology('planck18')"
   ]
  },
  {
   "cell_type": "markdown",
   "metadata": {},
   "source": [
    "Colossus comes with more than 20 hard-coded cosmologies:"
   ]
  },
  {
   "cell_type": "code",
   "execution_count": 4,
   "metadata": {},
   "outputs": [
    {
     "name": "stdout",
     "output_type": "stream",
     "text": [
      "planck18-only\n",
      "planck18\n",
      "planck15-only\n",
      "planck15\n",
      "planck13-only\n",
      "planck13\n",
      "WMAP9-only\n",
      "WMAP9-ML\n",
      "WMAP9\n",
      "WMAP7-only\n",
      "WMAP7-ML\n",
      "WMAP7\n",
      "WMAP5-only\n",
      "WMAP5-ML\n",
      "WMAP5\n",
      "WMAP3-ML\n",
      "WMAP3\n",
      "WMAP1-ML\n",
      "WMAP1\n",
      "illustris\n",
      "bolshoi\n",
      "multidark-planck\n",
      "millennium\n",
      "EdS\n",
      "powerlaw\n"
     ]
    }
   ],
   "source": [
    "for k in cosmology.cosmologies:\n",
    "    print(k)"
   ]
  },
  {
   "cell_type": "markdown",
   "metadata": {},
   "source": [
    "If we want to retrieve details about a given cosmology, we can just print the cosmology object:"
   ]
  },
  {
   "cell_type": "code",
   "execution_count": 5,
   "metadata": {},
   "outputs": [
    {
     "name": "stdout",
     "output_type": "stream",
     "text": [
      "Cosmology \"planck18\" \n",
      "    flat = True, Om0 = 0.3111, Ode0 = 0.6888, Ob0 = 0.0490, H0 = 67.66, sigma8 = 0.8102, ns = 0.9665\n",
      "    de_model = lambda, relspecies = True, Tcmb0 = 2.7255, Neff = 3.0460, powerlaw = False\n"
     ]
    }
   ],
   "source": [
    "print(cosmo)"
   ]
  },
  {
   "cell_type": "markdown",
   "metadata": {},
   "source": [
    "In Colossus, the cosmology is set globally. This means that we can obtain the current cosmology object from anywhere in the code:"
   ]
  },
  {
   "cell_type": "code",
   "execution_count": 6,
   "metadata": {},
   "outputs": [
    {
     "name": "stdout",
     "output_type": "stream",
     "text": [
      "planck18\n"
     ]
    }
   ],
   "source": [
    "cosmo = cosmology.getCurrent()\n",
    "print(cosmo.name)"
   ]
  },
  {
   "cell_type": "markdown",
   "metadata": {},
   "source": [
    "However, cosmologies are objects, meaning that we can keep multiple cosmologies around. This can be useful when switching back and forth between different cosmologies, for example:"
   ]
  },
  {
   "cell_type": "code",
   "execution_count": 7,
   "metadata": {},
   "outputs": [
    {
     "name": "stdout",
     "output_type": "stream",
     "text": [
      "WMAP9\n",
      "planck18\n"
     ]
    }
   ],
   "source": [
    "cosmo2 = cosmology.setCosmology('WMAP9')\n",
    "cosmology.setCurrent(cosmo2)\n",
    "print(cosmology.getCurrent().name)\n",
    "cosmology.setCurrent(cosmo)\n",
    "print(cosmology.getCurrent().name)"
   ]
  },
  {
   "cell_type": "markdown",
   "metadata": {},
   "source": [
    "Of course, you can also set a user-defined cosmology. In this case, arguments to the constructor of the Cosmology object are passed as a dictionary. Note that therre are many more possible arguments than shown here, as described in the documentation."
   ]
  },
  {
   "cell_type": "code",
   "execution_count": 8,
   "metadata": {},
   "outputs": [
    {
     "name": "stdout",
     "output_type": "stream",
     "text": [
      "Cosmology \"my_cosmo\" \n",
      "    flat = True, Om0 = 0.2500, Ode0 = 0.7499, Ob0 = 0.0430, H0 = 72.00, sigma8 = 0.8000, ns = 0.9700\n",
      "    de_model = lambda, relspecies = True, Tcmb0 = 2.7255, Neff = 3.0460, powerlaw = False\n"
     ]
    }
   ],
   "source": [
    "my_cosmo = {'flat': True, 'H0': 72.0, 'Om0': 0.25, 'Ob0': 0.043, 'sigma8': 0.8, 'ns': 0.97}\n",
    "cosmo = cosmology.setCosmology('my_cosmo', my_cosmo)\n",
    "print(cosmo)"
   ]
  },
  {
   "cell_type": "markdown",
   "metadata": {},
   "source": [
    "By default, relativistic species (neutrinos and photons) are included, meaning that they contribute to the energy density of the universe and are subtracted from the remaining components. Thus, when setting the flat cosmology above with $\\Omega_{\\rm m,0}=0.25$ and `relspecies=True`, the density of dark energy is not 0.75 but rather 0.75 minus the density of relativistic species. In practice, the relativistic contribution is small except at very high redshifts and makes a negligible contribution to most calculations.\n",
    "\n",
    "It is possible to change parameters of a cosmology after it has been created, but we need to alert Colossus of the change because it needs to clear the cache:"
   ]
  },
  {
   "cell_type": "code",
   "execution_count": 9,
   "metadata": {
    "scrolled": true
   },
   "outputs": [
    {
     "name": "stdout",
     "output_type": "stream",
     "text": [
      "Cosmology: Detected change in cosmological parameters.\n",
      "Cosmology \"my_cosmo\" \n",
      "    flat = True, Om0 = 0.2700, Ode0 = 0.7299, Ob0 = 0.0430, H0 = 72.00, sigma8 = 0.8000, ns = 0.9700\n",
      "    de_model = lambda, relspecies = True, Tcmb0 = 2.7255, Neff = 3.0460, powerlaw = False\n"
     ]
    }
   ],
   "source": [
    "cosmo.Om0 = 0.27\n",
    "cosmo.checkForChangedCosmology()\n",
    "print(cosmo)"
   ]
  },
  {
   "cell_type": "markdown",
   "metadata": {},
   "source": [
    "All the default parameter sets above represent flat $\\Lambda CDM$ cosmologies, i.e. model dark energy as a cosmological constant and contain no curvature. To add curvature, the default for flatness must be overwritten, and the dark energy content of the universe must be set explicitly (for flat cosmologies, it is computed from the matter and relativistic contributions):"
   ]
  },
  {
   "cell_type": "code",
   "execution_count": 10,
   "metadata": {},
   "outputs": [
    {
     "name": "stdout",
     "output_type": "stream",
     "text": [
      "-0.06119138647952183\n"
     ]
    }
   ],
   "source": [
    "params = copy.copy(cosmology.cosmologies['planck18'])\n",
    "params['flat'] = False\n",
    "params['Ode0'] = 0.75\n",
    "cosmo = cosmology.setCosmology('planck_curvature', params)\n",
    "print(cosmo.Ok0)"
   ]
  },
  {
   "cell_type": "markdown",
   "metadata": {},
   "source": [
    "Multiple models for the dark energy equation of state parameter $w(z)$ are implemented, namely a cosmological constant ($w = -1$), a constant $w$, a linearly varying $w(z) = w_0 + w_a (1 - a)$, and arbitrary user-supplied functions for $w(z)$. To set, for example, a linearly varying EOS, we change the `de_model` parameter. We can evaluate $w(z)$ using the `wz()` function:"
   ]
  },
  {
   "cell_type": "code",
   "execution_count": 11,
   "metadata": {},
   "outputs": [
    {
     "name": "stdout",
     "output_type": "stream",
     "text": [
      "-0.7666666666666667\n"
     ]
    }
   ],
   "source": [
    "params = copy.copy(cosmology.cosmologies['planck18'])\n",
    "params['de_model'] = 'w0wa'\n",
    "params['w0'] = -0.8\n",
    "params['wa'] = 0.1\n",
    "cosmo = cosmology.setCosmology('planck_w0wa', params)\n",
    "print(cosmo.wz(0.5))"
   ]
  },
  {
   "cell_type": "markdown",
   "metadata": {},
   "source": [
    "We can implement more exotic models by supplying an arbitrary function for $w(z)$:"
   ]
  },
  {
   "cell_type": "code",
   "execution_count": 12,
   "metadata": {},
   "outputs": [
    {
     "name": "stdout",
     "output_type": "stream",
     "text": [
      "-0.95\n"
     ]
    }
   ],
   "source": [
    "def wz_func(z):\n",
    "    return -1.0 + 0.1 * z\n",
    "\n",
    "params = copy.copy(cosmology.cosmologies['planck18'])\n",
    "params['de_model'] = 'user'\n",
    "params['wz_function'] = wz_func\n",
    "cosmo = cosmology.setCosmology('planck_wz', params)\n",
    "print(cosmo.wz(0.5))"
   ]
  },
  {
   "cell_type": "markdown",
   "metadata": {},
   "source": [
    "Note that for the cases of the $w_0$-$w_a$ and user-defined cosmologies, the range of future redshifts is restricted to $z=-0.9$ by default because the dark energy component's exponential growth can otherwise lead to overflow errors."
   ]
  },
  {
   "cell_type": "markdown",
   "metadata": {
    "collapsed": true
   },
   "source": [
    "## Standard calculations: Densities, distances, times"
   ]
  },
  {
   "cell_type": "markdown",
   "metadata": {},
   "source": [
    "Let's perform some simple calculations such as cosmological densities, distances, and times. As before, we begin by setting a particular cosmology:"
   ]
  },
  {
   "cell_type": "code",
   "execution_count": 13,
   "metadata": {},
   "outputs": [],
   "source": [
    "cosmo = cosmology.setCosmology('planck18')"
   ]
  },
  {
   "cell_type": "markdown",
   "metadata": {},
   "source": [
    "Using the object returned by this function (or `cosmology.getCurrent()`), we can evaluate standard cosmological quantities. For example, let's print the age of the universe today. The cosmology functions always take redshift rather than scale factor as an argument:"
   ]
  },
  {
   "cell_type": "code",
   "execution_count": 14,
   "metadata": {},
   "outputs": [
    {
     "name": "stdout",
     "output_type": "stream",
     "text": [
      "13.786206419159683\n"
     ]
    }
   ],
   "source": [
    "print(cosmo.age(0.0))"
   ]
  },
  {
   "cell_type": "markdown",
   "metadata": {},
   "source": [
    "Note that the returned age is in Gyr. The colossus cosmology functions adhere to the following unit system:\n",
    "\n",
    "* Length: comoving Mpc/h\n",
    "* Mass: Msun\n",
    "* Wavenumber: comoving h/Mpc\n",
    "* Time: Gyr\n",
    "* Density: physical Msun * h^2 / kpc^3\n",
    "\n",
    "Virtually all Colossus functions accept numpy arrays as input and return arrays of the same dimensions:"
   ]
  },
  {
   "cell_type": "code",
   "execution_count": 15,
   "metadata": {},
   "outputs": [
    {
     "data": {
      "text/plain": [
       "array([-1.76263959e-15,  1.14871120e+03,  1.19712269e+03,  1.10009255e+03])"
      ]
     },
     "execution_count": 15,
     "metadata": {},
     "output_type": "execute_result"
    }
   ],
   "source": [
    "import numpy as np\n",
    "z = np.array([0.0, 1.0, 2.0, 3.0])\n",
    "cosmo.angularDiameterDistance(z)"
   ]
  },
  {
   "cell_type": "markdown",
   "metadata": {},
   "source": [
    "The colossus cosmology module works to pretty extreme redshifts, namely between $z = -0.995$ and $200$ (though some functions may have stricter limits, for example $z>=0$). For example, let's plot the relative density contribution of the various components in the Planck cosmology:"
   ]
  },
  {
   "cell_type": "code",
   "execution_count": 16,
   "metadata": {},
   "outputs": [
    {
     "data": {
      "image/png": "[encoded data removed]",
      "text/plain": [
       "<Figure size 432x288 with 1 Axes>"
      ]
     },
     "metadata": {
      "needs_background": "light"
     },
     "output_type": "display_data"
    }
   ],
   "source": [
    "zp1 = 10**np.arange(-1.0, 2.0, 0.05)\n",
    "z = zp1 - 1.0\n",
    "\n",
    "O_b = cosmo.Ob(z)\n",
    "O_dm = cosmo.Om(z) - O_b\n",
    "O_de = cosmo.Ode(z)\n",
    "O_gamma = cosmo.Ogamma(z)\n",
    "O_nu = cosmo.Onu(z)\n",
    "\n",
    "plt.figure()\n",
    "plt.loglog()\n",
    "plt.xlabel('z+1')\n",
    "plt.ylabel('Fraction of total density')\n",
    "plt.plot(zp1, O_dm, '-', label = 'Dark matter')\n",
    "plt.plot(zp1, O_b, '-', label = 'Baryons')\n",
    "plt.plot(zp1, O_de, '-', label = 'Dark Energy')\n",
    "plt.plot(zp1, O_gamma, '-', label = 'Photos')\n",
    "plt.plot(zp1, O_nu, '-', label = 'Neutrinos')\n",
    "plt.legend(loc = 4);"
   ]
  },
  {
   "cell_type": "markdown",
   "metadata": {},
   "source": [
    "There is more to the functions mentioned above: they can also give us their own inverse, e.g. $z(t)$ instead of $t(z)$:"
   ]
  },
  {
   "cell_type": "code",
   "execution_count": 17,
   "metadata": {
    "scrolled": true
   },
   "outputs": [
    {
     "name": "stdout",
     "output_type": "stream",
     "text": [
      "[-4.41276515e-05  9.99787190e-01  1.99991520e+00  3.00002259e+00]\n"
     ]
    }
   ],
   "source": [
    "z = np.array([0.0, 1.0, 2.0, 3.0])\n",
    "t = cosmo.age(z)\n",
    "z2 = cosmo.age(t, inverse = True)\n",
    "print(z2)"
   ]
  },
  {
   "cell_type": "markdown",
   "metadata": {},
   "source": [
    "The slight errors in the recovered redshifts give a hint as to how colossus works internally: the majority of functions rely on interpolation for performance. The interpolating splines can be inverted numerically. If, for some reason, you really need the exact calculation, you can set `interpolation = False` in the constructor, or at a later time.\n",
    "\n",
    "Once again using interpolating splines, we can also evaluate the derivatives of many functions, e.g. $dt/dz$ or $d^2t/dz^2$:"
   ]
  },
  {
   "cell_type": "code",
   "execution_count": 18,
   "metadata": {},
   "outputs": [
    {
     "data": {
      "text/plain": [
       "array([-14.45267824,  -4.05174963,  -1.59720974,  -0.79551907])"
      ]
     },
     "execution_count": 18,
     "metadata": {},
     "output_type": "execute_result"
    }
   ],
   "source": [
    "cosmo.age(z, derivative = 1)"
   ]
  },
  {
   "cell_type": "code",
   "execution_count": 19,
   "metadata": {},
   "outputs": [
    {
     "data": {
      "text/plain": [
       "array([21.19751241,  4.41082623,  1.26979433,  0.48567331])"
      ]
     },
     "execution_count": 19,
     "metadata": {},
     "output_type": "execute_result"
    }
   ],
   "source": [
    "cosmo.age(z, derivative = 2)"
   ]
  },
  {
   "cell_type": "markdown",
   "metadata": {},
   "source": [
    "We can even combine the inverse and derivative arguments to evaluate the derivative of the inverse, e.g. $dz/dt$:"
   ]
  },
  {
   "cell_type": "code",
   "execution_count": 20,
   "metadata": {},
   "outputs": [
    {
     "data": {
      "text/plain": [
       "array([-0.06920297, -0.24626517, -0.62714306, -1.2568361 ])"
      ]
     },
     "execution_count": 20,
     "metadata": {},
     "output_type": "execute_result"
    }
   ],
   "source": [
    "t = cosmo.age(z)\n",
    "cosmo.age(t, inverse = True, derivative = 1)"
   ]
  },
  {
   "cell_type": "markdown",
   "metadata": {},
   "source": [
    "A word of warning: while the documentation quotes a particular accuracy for each function, the accuracy of the derivatives and inverses is not guaranteed. There are many more functions related to densities, distances, and times. Please consult the [documentation of the cosmology module](https://bdiemer.bitbucket.io/colossus/cosmology_cosmology.html) for an exhaustive list."
   ]
  },
  {
   "cell_type": "markdown",
   "metadata": {},
   "source": [
    "## The distribution of matter: power spectrum, variance, correlation function"
   ]
  },
  {
   "cell_type": "markdown",
   "metadata": {},
   "source": [
    "Colossus is geared toward calculations related to the evolution of structure in the universe and this focus is reflected in the cosmology module. We assume that the linear over- and underdensity field is given by a Gaussian random field which is unambiguously described by its power spectrum $P(k)$. By default, Colossus evaluates the matter power spectrum using the approximation of [Eisenstein & Hu 1998](http://adsabs.harvard.edu/abs/1998ApJ...496..605E), but the user can also pass a tabulated power spectrum (e.g., computed using CAMB). "
   ]
  },
  {
   "cell_type": "code",
   "execution_count": 21,
   "metadata": {},
   "outputs": [
    {
     "data": {
      "image/png": "[encoded data removed]",
      "text/plain": [
       "<Figure size 432x288 with 1 Axes>"
      ]
     },
     "metadata": {
      "needs_background": "light"
     },
     "output_type": "display_data"
    }
   ],
   "source": [
    "k = 10**np.arange(-5,2,0.02)\n",
    "Pk = cosmo.matterPowerSpectrum(k)\n",
    "\n",
    "plt.figure()\n",
    "plt.loglog()\n",
    "plt.xlabel('k(Mpc/h)')\n",
    "plt.ylabel('P(k)')\n",
    "plt.plot(k, Pk, '-');"
   ]
  },
  {
   "cell_type": "markdown",
   "metadata": {},
   "source": [
    "It is a little hard to discern features in the power spectrum with this many orders of magnitude on the plot. As the functions discussed above, the `matterPowerSpectrum()` function relies on interpolating splines and can return the derivative of the power spectrum, highlighting the BAO wiggles:"
   ]
  },
  {
   "cell_type": "code",
   "execution_count": 22,
   "metadata": {},
   "outputs": [
    {
     "data": {
      "image/png": "[encoded data removed]",
      "text/plain": [
       "<Figure size 432x288 with 1 Axes>"
      ]
     },
     "metadata": {
      "needs_background": "light"
     },
     "output_type": "display_data"
    }
   ],
   "source": [
    "Pk_deriv = cosmo.matterPowerSpectrum(k, derivative = True)\n",
    "\n",
    "plt.figure()\n",
    "plt.xscale('log')\n",
    "plt.xlabel('k(h/Mpc)')\n",
    "plt.ylabel('d log(P) / d log(k)')\n",
    "plt.plot(k, Pk_deriv, '-');"
   ]
  },
  {
   "cell_type": "markdown",
   "metadata": {},
   "source": [
    "A number of important quantities are integrals over the power spectrum, for example the matter-matter correlation function:"
   ]
  },
  {
   "cell_type": "code",
   "execution_count": 23,
   "metadata": {},
   "outputs": [
    {
     "data": {
      "image/png": "[encoded data removed]",
      "text/plain": [
       "<Figure size 432x288 with 1 Axes>"
      ]
     },
     "metadata": {
      "needs_background": "light"
     },
     "output_type": "display_data"
    }
   ],
   "source": [
    "R = 10**np.arange(0,2.4,0.005)\n",
    "xi = cosmo.correlationFunction(R, 0.0)\n",
    "\n",
    "plt.figure()\n",
    "plt.loglog()\n",
    "plt.xlabel('R(Mpc/h)')\n",
    "plt.ylabel('abs(xi)')\n",
    "plt.plot(R, np.abs(xi), '-');"
   ]
  },
  {
   "cell_type": "markdown",
   "metadata": {},
   "source": [
    "...or the variance `sigma(R)`. The variance is defined for a particular filter function, three of which are implemented in colossus: a top-hat in real space, a Gaussian, and a sharp-k space filter. The tophat filter is most commonly used, e.g. when computing peak height (see [LSS module](https://bdiemer.bitbucket.io/colossus/lss.html)), and is the default in Colossus."
   ]
  },
  {
   "cell_type": "code",
   "execution_count": 24,
   "metadata": {
    "scrolled": true
   },
   "outputs": [
    {
     "data": {
      "image/png": "[encoded data removed]",
      "text/plain": [
       "<Figure size 432x288 with 1 Axes>"
      ]
     },
     "metadata": {
      "needs_background": "light"
     },
     "output_type": "display_data"
    }
   ],
   "source": [
    "R = 10**np.arange(0,2.4,0.005)\n",
    "sigma_tophat = cosmo.sigma(R, 0.0)\n",
    "sigma_sharpk = cosmo.sigma(R, 0.0, filt = 'sharp-k')\n",
    "sigma_gaussian = cosmo.sigma(R, 0.0, filt = 'gaussian')\n",
    "\n",
    "plt.figure()\n",
    "plt.loglog()\n",
    "plt.xlabel('R(Mpc/h)')\n",
    "plt.ylabel('sigma(R)')\n",
    "plt.plot(R, sigma_tophat, '-', label = 'tophat')\n",
    "plt.plot(R, sigma_sharpk, '--', label = 'sharp-k')\n",
    "plt.plot(R, sigma_gaussian, ':', label = 'gaussian')\n",
    "plt.legend();"
   ]
  },
  {
   "cell_type": "markdown",
   "metadata": {},
   "source": [
    "You may notice that the first time you execute the functions the functions above, they can take up to a couple of seconds. That's because Colossus computes an interpolation table, saves it to disk, and loads it the next time the same cosmology is initiated. If, for some reason, this behavior is undesired, you can control it with the `interpolation` and `persistence` parameters to the constructor."
   ]
  }
 ],
 "metadata": {
  "kernelspec": {
   "display_name": "Python 3",
   "language": "python",
   "name": "python3"
  },
  "language_info": {
   "codemirror_mode": {
    "name": "ipython",
    "version": 3
   },
   "file_extension": ".py",
   "mimetype": "text/x-python",
   "name": "python",
   "nbconvert_exporter": "python",
   "pygments_lexer": "ipython3",
   "version": "3.7.12"
  }
 },
 "nbformat": 4,
 "nbformat_minor": 2
}
