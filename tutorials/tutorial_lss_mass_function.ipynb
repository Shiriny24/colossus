{
 "cells": [
  {
   "cell_type": "markdown",
   "metadata": {},
   "source": [
    "# Colossus tutorial: Halo mass function"
   ]
  },
  {
   "cell_type": "markdown",
   "metadata": {},
   "source": [
    "Welcome to the colossus halo mass function tutorial."
   ]
  },
  {
   "cell_type": "code",
   "execution_count": null,
   "metadata": {
    "collapsed": true
   },
   "outputs": [],
   "source": [
    "from __future__ import print_function \n",
    "import matplotlib.pyplot as plt\n",
    "import numpy as np\n",
    "%matplotlib inline"
   ]
  },
  {
   "cell_type": "markdown",
   "metadata": {},
   "source": [
    "We begin by setting a cosmology:"
   ]
  },
  {
   "cell_type": "code",
   "execution_count": null,
   "metadata": {
    "collapsed": true
   },
   "outputs": [],
   "source": [
    "from colossus.cosmology import cosmology\n",
    "cosmology.setCosmology('planck15');"
   ]
  },
  {
   "cell_type": "markdown",
   "metadata": {},
   "source": [
    "The halo mass function quantifies how many halos there are of a given mass. All models implemented in colossus specify this abundance in units of f(sigma), the natural units in Press-Schechter theory. However, for many purposes, more intuitive units are desired. Let's make a plot of the mass function according to Tinker et al. 2008 at a few redshifts:"
   ]
  },
  {
   "cell_type": "code",
   "execution_count": null,
   "metadata": {},
   "outputs": [],
   "source": [
    "from colossus.lss import mass_function\n",
    "\n",
    "z = [0.0, 1.0, 2.0, 4.0]\n",
    "M = 10**np.arange(11.0, 15.5, 0.1)\n",
    "\n",
    "plt.figure()\n",
    "plt.xlabel('M200m')\n",
    "plt.ylabel('dn/dln(M)')\n",
    "plt.loglog()\n",
    "plt.xlim(1E11, 4E15)\n",
    "plt.ylim(1E-7, 1E-1)\n",
    "for i in range(len(z)):\n",
    "    mfunc = mass_function.massFunction(M, z[i], mdef = '200m', model = 'tinker08', q_out = 'dndlnM')\n",
    "    plt.plot(M, mfunc, '-', label = 'z = %.1f' % (z[i]))\n",
    "plt.legend();"
   ]
  },
  {
   "cell_type": "markdown",
   "metadata": {},
   "source": [
    "The redshift evolution is mostly due to the change of M(nu), as in the relation between mass and peak height. At fixed peak height, the function changes only mildly. Now let's compare some models for the FOF mass function:"
   ]
  },
  {
   "cell_type": "code",
   "execution_count": null,
   "metadata": {},
   "outputs": [],
   "source": [
    "from colossus.lss import peaks\n",
    "\n",
    "z = 0.0\n",
    "nu = np.arange(0.3, 5.1, 0.1)\n",
    "M = peaks.massFromPeakHeight(nu, z)\n",
    "\n",
    "ref = mass_function.massFunction(M, z, model = 'sheth99')\n",
    "models = ['press74', 'jenkins01', 'reed03', 'warren06', 'crocce10', 'courtin11', 'bhattacharya11', 'watson13']\n",
    "\n",
    "plt.figure()\n",
    "plt.xlabel('peak height')\n",
    "plt.ylabel('f/f_{sheth99}')\n",
    "plt.xlim(-2.0, 5.0)\n",
    "plt.ylim(0.0, 2.0)\n",
    "plt.axhline(1.0, ls = '--', color = 'gray')\n",
    "for i in range(len(models)):\n",
    "    mfunc = mass_function.massFunction(M, z, mdef = 'fof', model = models[i])\n",
    "    plt.plot(nu, mfunc / ref, '-', label = models[i])\n",
    "plt.legend(loc = 3);"
   ]
  }
 ],
 "metadata": {
  "kernelspec": {
   "display_name": "Python 3",
   "language": "python",
   "name": "python3"
  },
  "language_info": {
   "codemirror_mode": {
    "name": "ipython",
    "version": 3
   },
   "file_extension": ".py",
   "mimetype": "text/x-python",
   "name": "python",
   "nbconvert_exporter": "python",
   "pygments_lexer": "ipython3",
   "version": "3.5.4"
  }
 },
 "nbformat": 4,
 "nbformat_minor": 2
}
