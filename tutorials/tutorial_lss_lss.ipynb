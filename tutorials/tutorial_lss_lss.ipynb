{
 "cells": [
  {
   "cell_type": "markdown",
   "metadata": {},
   "source": [
    "# Colossus tutorial: Large-scale Structure"
   ]
  },
  {
   "cell_type": "markdown",
   "metadata": {
    "collapsed": true
   },
   "source": [
    "Welcome to the colossus large-scale structure tutorial."
   ]
  },
  {
   "cell_type": "code",
   "execution_count": null,
   "metadata": {
    "collapsed": true
   },
   "outputs": [],
   "source": [
    "from __future__ import print_function \n",
    "import matplotlib.pyplot as plt\n",
    "import numpy as np\n",
    "%matplotlib inline"
   ]
  },
  {
   "cell_type": "markdown",
   "metadata": {},
   "source": [
    "We begin by setting a cosmology:"
   ]
  },
  {
   "cell_type": "code",
   "execution_count": null,
   "metadata": {
    "collapsed": true
   },
   "outputs": [],
   "source": [
    "from colossus.cosmology import cosmology\n",
    "cosmology.setCosmology('planck15');"
   ]
  },
  {
   "cell_type": "markdown",
   "metadata": {
    "collapsed": true
   },
   "source": [
    "## Collapse overdensity, peak height, and non-linear mass"
   ]
  },
  {
   "cell_type": "markdown",
   "metadata": {},
   "source": [
    "Instead of thinking of halos as objects with a particular mass, we can think of them as statistical fluctuations in the Gaussian random field that seeded cosmic structure. In this picture, the mass of a halo can be expressed as a significance or \"peak height\". In a Gaussian random field, peak height is trivially defined as overdensity, delta, divided by the variance. Halos, however, are non-linearly collapsed objects; what is their overdensity, and what is the corresponding variance?\n",
    "\n",
    "We use the approximation of linear collapse to derive a definition. According to the top-hat collapse model (Gunn & Gott 1972), shells of dark matter turn around once they include a certain overdensity, and one can come up with a crude estimate for when they collapse into a \"virialized\" object. At this point in time, the overdensity enclosed is 1.686 (in an Einstein-de Sitter universe). To compute the variance, we assign the halo a spatial scale corresponding to the radius that enclosed the halo's mass initially, called the Lagrangian radius (which depends on our definition of the halo's mass today). \n",
    "\n",
    "By combining these two estimates, we obtain an expression for the peak height, nu = 1.686 / sigma(R, z). Objects with small peak heights have, on average, collapsed in the past. Objects with nu = 1 are collapsing at the current time, and objects with large peak heights have, on average, not yet collapsed. This logic leads to the concept of the non-linear mass scale, i.e., the mass that is currently collapsing which satisfies nu(M_NL) = 1.\n",
    "\n",
    "Colossus contains functions to evaluate all of these quantities in the lss module:"
   ]
  },
  {
   "cell_type": "code",
   "execution_count": null,
   "metadata": {
    "collapsed": true
   },
   "outputs": [],
   "source": [
    "from colossus.lss import lss"
   ]
  },
  {
   "cell_type": "markdown",
   "metadata": {},
   "source": [
    "For example, we can compute the collapse overdensity as a function of redshift. In a non-EdS universe, there are small corrections to the constant value:"
   ]
  },
  {
   "cell_type": "code",
   "execution_count": null,
   "metadata": {},
   "outputs": [],
   "source": [
    "z = np.arange(0.0, 5.0, 0.1)\n",
    "delta_c = lss.collapseOverdensity(corrections = True, z = z)\n",
    "plt.figure()\n",
    "plt.xlabel('z')\n",
    "plt.ylabel('collapse overdensity')\n",
    "plt.plot(z, delta_c, '-');"
   ]
  },
  {
   "cell_type": "markdown",
   "metadata": {
    "collapsed": true
   },
   "source": [
    "We see that the change with redshift is less than 1%, so we can happily ignore this effect in the future (and colossus does so by default). Let's now make a plot of the mass that a given peak height corresponds to at different redshifts:"
   ]
  },
  {
   "cell_type": "code",
   "execution_count": null,
   "metadata": {},
   "outputs": [],
   "source": [
    "nu = np.arange(0.4, 5.0, 0.1)\n",
    "z = [0.0, 1.0, 2.0, 4.0, 10.0]\n",
    "plt.figure()\n",
    "plt.yscale('log')\n",
    "plt.xlabel('peak height')\n",
    "plt.ylabel('mass')\n",
    "for zz in z:\n",
    "    M = lss.massFromPeakHeight(nu, zz)\n",
    "    plt.plot(nu, M, '-', label = 'z=%.0f' % zz)\n",
    "plt.ylim(1E5, 1E16)\n",
    "plt.legend();"
   ]
  },
  {
   "cell_type": "markdown",
   "metadata": {
    "collapsed": true
   },
   "source": [
    "All functions related to peak height take extra parameters that determine exactly how the variance and collapse overdensity are computed, for example which filter and power spectrum model are used. Please see the documentation for more information. \n",
    "\n",
    "As mentioned above, the non-linear mass is the mass scale of halos that are, on average, collapsing at a given time. By the definition of peak height, that corresponds to nu = 1. The non-linear mass scale grows with time:"
   ]
  },
  {
   "cell_type": "code",
   "execution_count": null,
   "metadata": {},
   "outputs": [],
   "source": [
    "z = np.arange(0.0, 10.0, 0.1)\n",
    "Mstar = lss.nonLinearMass(z)\n",
    "zp1 = z + 1.0\n",
    "plt.plot()\n",
    "plt.loglog()\n",
    "plt.xlabel('z + 1')\n",
    "plt.ylabel('M*')\n",
    "plt.plot(z, Mstar, '-');"
   ]
  },
  {
   "cell_type": "markdown",
   "metadata": {},
   "source": [
    "Today, the non-linear mass is slightly larger than 1E12."
   ]
  },
  {
   "cell_type": "markdown",
   "metadata": {
    "collapsed": true
   },
   "source": [
    "## Peak curvature"
   ]
  },
  {
   "cell_type": "markdown",
   "metadata": {},
   "source": [
    "We can also compute higher-order properties of the density field, such as the average curvature of peaks (see Bardeen et al. 1986 for the mathematical expressions). Note that the curvature can only be computed using a Gaussian rather than top-hat filter because the higher moments of the variance are not well-behaved otherwise. For the plot, we convert back to the usual top-hat based peak height."
   ]
  },
  {
   "cell_type": "code",
   "execution_count": null,
   "metadata": {},
   "outputs": [],
   "source": [
    "NU_MAX = 12.0\n",
    "nu = np.arange(0.3, NU_MAX, 0.1)\n",
    "z = [0.0, 0.5, 1.0, 2.0, 4.0, 6.0]\n",
    "colors = ['darkblue', 'deepskyblue', 'g', 'orange', 'red', 'm', 'b', 'c']\n",
    "\n",
    "fig = plt.figure()\n",
    "plt.xlim(0.0, 6.0)\n",
    "plt.ylim(2.0, 8.0)\n",
    "plt.xlabel(r'peak height')\n",
    "plt.ylabel(r'curvature')\n",
    "for j in range(len(z)):\n",
    "    M = lss.massFromPeakHeight(nu, z[j], sigma_args = {'filt': 'gaussian'})\n",
    "    _, _, x_approx, _, _ = lss.peakCurvature(M, z[j], exact = False)\n",
    "    nu_TH = lss.peakHeight(M, z[j], sigma_args = {'filt': 'tophat'})\n",
    "    plt.plot(nu_TH, x_approx, '-', color = colors[j], label = 'z = %.1f' % z[j])\n",
    "plt.legend(loc = 2);"
   ]
  },
  {
   "cell_type": "markdown",
   "metadata": {},
   "source": [
    "While peak height quantifies how high a fluctuation over the background a halo is, peak curvature tells us something about the shape of the initial peak. However, note the cloud-in-cloud problem (BBKS): not all peaks end up forming halos, particularly small peaks will often get swallowed by other peaks. Thus, the average peak curvature is not necessarily equal to the average curvature of peaks that form halos.\n"
   ]
  }
 ],
 "metadata": {
  "kernelspec": {
   "display_name": "Python 3",
   "language": "python",
   "name": "python3"
  },
  "language_info": {
   "codemirror_mode": {
    "name": "ipython",
    "version": 3
   },
   "file_extension": ".py",
   "mimetype": "text/x-python",
   "name": "python",
   "nbconvert_exporter": "python",
   "pygments_lexer": "ipython3",
   "version": "3.5.4"
  }
 },
 "nbformat": 4,
 "nbformat_minor": 2
}
