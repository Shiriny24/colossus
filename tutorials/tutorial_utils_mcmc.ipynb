{
 "cells": [
  {
   "cell_type": "markdown",
   "metadata": {},
   "source": [
    "# Colossus tutorial: MCMC fitting"
   ]
  },
  {
   "cell_type": "markdown",
   "metadata": {},
   "source": [
    "Colossus includes a basic MCMC fitting module based on the [Goodman & Weare 2010](http://adsabs.harvard.edu/abs/2010CAMCS...5...65G) algorithm, contributed by Andrey Kravtsov. "
   ]
  },
  {
   "cell_type": "code",
   "execution_count": 1,
   "metadata": {
    "collapsed": true
   },
   "outputs": [],
   "source": [
    "from __future__ import print_function \n",
    "import numpy as np\n",
    "import matplotlib.pyplot as plt\n",
    "%matplotlib inline"
   ]
  },
  {
   "cell_type": "markdown",
   "metadata": {},
   "source": [
    "First, we need to define a likelihood function which we are trying to maximize. For a quick demonstration, let's use a double Gaussian with correlated parameters:"
   ]
  },
  {
   "cell_type": "code",
   "execution_count": 2,
   "metadata": {
    "collapsed": true
   },
   "outputs": [],
   "source": [
    "def likelihood(x):\n",
    "\n",
    "    sig1 = 1.0\n",
    "    sig2 = 2.0\n",
    "    r = 0.95\n",
    "    r2 = r * r\n",
    "    res = np.exp(-0.5 * ((x[:, 0] / sig1)**2 + (x[:, 1] / sig2)**2 - 2.0 * r * x[:, 0] * x[:, 1] \\\n",
    "            / (sig1 * sig2)) / (1.0 - r2)) / (2 * np.pi * sig1 * sig2) / np.sqrt(1.0 - r2)\n",
    "\n",
    "    return res"
   ]
  },
  {
   "cell_type": "markdown",
   "metadata": {},
   "source": [
    "Running the MCMC is easy now: we need to decide on an initial guess for the parameters and a number of \"walkers\" (chains run in parallel). "
   ]
  },
  {
   "cell_type": "code",
   "execution_count": 3,
   "metadata": {
    "collapsed": true
   },
   "outputs": [],
   "source": [
    "param_names = ['x1', 'x2']\n",
    "x_initial = np.array([1.0, 1.0])\n",
    "n_params = len(param_names)"
   ]
  },
  {
   "cell_type": "markdown",
   "metadata": {},
   "source": [
    "We could just use the `run()` function to complete all the following steps in one function call, but for the sake of demonstration, let's break it down into the main steps.\n",
    "\n",
    "First, the `runChain()` function does the actual MCMC sampling. It takes more optional arguments than shown in the code below. By default, the MCMC is stopped when the Gelman-Rubin criterion is below a certain number in all parameters. Running this code should take less than a minute on a modern laptop. "
   ]
  },
  {
   "cell_type": "code",
   "execution_count": 4,
   "metadata": {},
   "outputs": [
    {
     "name": "stdout",
     "output_type": "stream",
     "text": [
      "Running MCMC with the following settings:\n",
      "Number of parameters:                      2\n",
      "Number of walkers:                       200\n",
      "Save conv. indicators every:             100\n",
      "Finish when Gelman-Rubin less than:   0.0100\n",
      "-------------------------------------------------------------------------------------\n",
      "Step    100, autocorr. time  28.7, GR = [  1.318  1.323]\n",
      "Step    200, autocorr. time  51.1, GR = [  1.131  1.138]\n",
      "Step    300, autocorr. time  51.7, GR = [  1.086  1.090]\n",
      "Step    400, autocorr. time  52.7, GR = [  1.063  1.068]\n",
      "Step    500, autocorr. time  50.8, GR = [  1.049  1.055]\n",
      "Step    600, autocorr. time  49.5, GR = [  1.040  1.046]\n",
      "Step    700, autocorr. time  48.6, GR = [  1.035  1.039]\n",
      "Step    800, autocorr. time  47.3, GR = [  1.033  1.037]\n",
      "Step    900, autocorr. time  45.9, GR = [  1.029  1.033]\n",
      "Step   1000, autocorr. time  44.7, GR = [  1.025  1.028]\n",
      "Step   1100, autocorr. time  42.0, GR = [  1.023  1.026]\n",
      "Step   1200, autocorr. time  41.7, GR = [  1.021  1.023]\n",
      "Step   1300, autocorr. time  41.1, GR = [  1.021  1.022]\n",
      "Step   1400, autocorr. time  40.6, GR = [  1.020  1.021]\n",
      "Step   1500, autocorr. time  40.5, GR = [  1.020  1.020]\n",
      "Step   1600, autocorr. time  41.5, GR = [  1.018  1.019]\n",
      "Step   1700, autocorr. time  40.5, GR = [  1.017  1.018]\n",
      "Step   1800, autocorr. time  41.3, GR = [  1.016  1.017]\n",
      "Step   1900, autocorr. time  40.4, GR = [  1.016  1.017]\n",
      "Step   2000, autocorr. time  39.5, GR = [  1.015  1.016]\n",
      "Step   2100, autocorr. time  39.3, GR = [  1.014  1.014]\n",
      "Step   2200, autocorr. time  38.9, GR = [  1.013  1.013]\n",
      "Step   2300, autocorr. time  38.1, GR = [  1.012  1.012]\n",
      "Step   2400, autocorr. time  38.0, GR = [  1.012  1.012]\n",
      "Step   2500, autocorr. time  38.1, GR = [  1.011  1.012]\n",
      "Step   2600, autocorr. time  37.3, GR = [  1.011  1.011]\n",
      "Step   2700, autocorr. time  36.7, GR = [  1.010  1.010]\n",
      "Step   2800, autocorr. time  35.6, GR = [  1.010  1.010]\n",
      "Step   2900, autocorr. time  35.7, GR = [  1.010  1.010]\n",
      "-------------------------------------------------------------------------------------\n",
      "Acceptance ratio:                          0.661\n",
      "Total number of samples:                  580000\n",
      "Samples in burn-in:                       140000\n",
      "Samples without burn-in (full chain):     440000\n",
      "Thinning factor (autocorr. time):             35\n",
      "Independent samples (thin chain):          12572\n"
     ]
    }
   ],
   "source": [
    "from colossus.utils import mcmc\n",
    "\n",
    "walkers = mcmc.initWalkers(x_initial, nwalkers = 200, random_seed = 156)\n",
    "chain_thin, chain_full, _ = mcmc.runChain(likelihood, walkers)"
   ]
  },
  {
   "cell_type": "markdown",
   "metadata": {},
   "source": [
    "Given the chain output, we can now compute the most likely values for the parameters as well as confidence intervals. We use the thinned chain for this purpose because the full chain's individual samples are highly correlated, leading to erroneous statistical inferences."
   ]
  },
  {
   "cell_type": "code",
   "execution_count": 5,
   "metadata": {},
   "outputs": [
    {
     "name": "stdout",
     "output_type": "stream",
     "text": [
      "-------------------------------------------------------------------------------------\n",
      "Statistics for parameter 0, x1:\n",
      "Mean:              -5.000e-03\n",
      "Median:            -1.595e-02\n",
      "Std. dev.:         +9.745e-01\n",
      "68.3% interval:    -9.792e-01 .. +9.680e-01\n",
      "95.5% interval:    -1.925e+00 .. +1.986e+00\n",
      "99.7% interval:    -2.819e+00 .. +3.151e+00\n",
      "-------------------------------------------------------------------------------------\n",
      "Statistics for parameter 1, x2:\n",
      "Mean:              -1.308e-02\n",
      "Median:            -1.386e-02\n",
      "Std. dev.:         +1.952e+00\n",
      "68.3% interval:    -1.972e+00 .. +1.924e+00\n",
      "95.5% interval:    -3.925e+00 .. +3.972e+00\n",
      "99.7% interval:    -5.824e+00 .. +5.848e+00\n"
     ]
    }
   ],
   "source": [
    "mcmc.analyzeChain(chain_thin, param_names = param_names);"
   ]
  },
  {
   "cell_type": "markdown",
   "metadata": {},
   "source": [
    "To elucidate the individual and joint likelihood distributions of the parameters, it is helpful to plot the chain output. The following function does just that:"
   ]
  },
  {
   "cell_type": "code",
   "execution_count": 6,
   "metadata": {
    "collapsed": true
   },
   "outputs": [],
   "source": [
    "import matplotlib.pyplot as plt\n",
    "from matplotlib.colors import LogNorm\n",
    "import matplotlib.gridspec as gridspec\n",
    "\n",
    "def plotChain(chain, param_labels):\n",
    "    \"\"\"\n",
    "    Plot a summary of an MCMC chain.\n",
    "\n",
    "    This function creates a triangle plot with a 2D histogram for each combination of parameters,\n",
    "    and a 1D histogram for each parameter. The plot is not automatically saved or shown, the user\n",
    "    can determine how to use the plot after executing this function.\n",
    "\n",
    "    Parameters\n",
    "    -----------------------------------------------------------------------------------------------\n",
    "    chain: array_like\n",
    "        A numpy array of dimensions ``[nsteps, nparams]`` with the parameters at each step in the \n",
    "        chain. The chain is created by the :func:`runChain` function.\n",
    "    param_labels: array_like\n",
    "        A list of strings which are used when plotting the parameters. \n",
    "    \"\"\"\n",
    "\n",
    "    nsamples = len(chain)\n",
    "    nparams = len(chain[0])\n",
    "\n",
    "    # Prepare panels\n",
    "    margin_lb = 1.0\n",
    "    margin_rt = 0.5\n",
    "    panel_size = 2.5\n",
    "    size = nparams * panel_size + margin_lb + margin_rt\n",
    "    fig = plt.figure(figsize = (size, size))\n",
    "    gs = gridspec.GridSpec(nparams, nparams)\n",
    "    margin_lb_frac = margin_lb / size\n",
    "    margin_rt_frac = margin_rt / size\n",
    "    plt.subplots_adjust(left = margin_lb_frac, bottom = margin_lb_frac, right = 1.0 - margin_rt_frac,\n",
    "                    top = 1.0 - margin_rt_frac, hspace = margin_rt_frac, wspace = margin_rt_frac)\n",
    "    panels = [[None for dummy in range(nparams)] for dummy in range(nparams)] \n",
    "    for i in range(nparams):\n",
    "        for j in range(nparams):\n",
    "            if i >= j:\n",
    "                pan = fig.add_subplot(gs[i, j])\n",
    "                panels[i][j] = pan\n",
    "                if i < nparams - 1:\n",
    "                    pan.set_xticklabels([])\n",
    "                else:\n",
    "                    plt.xlabel(param_labels[j])\n",
    "                if j > 0:\n",
    "                    pan.set_yticklabels([])\n",
    "                else:\n",
    "                    plt.ylabel(param_labels[i])\n",
    "            else:\n",
    "                panels[i][j] = None\n",
    "\n",
    "    # Plot 1D histograms\n",
    "    nbins = min(50, nsamples / 20.0)\n",
    "    minmax = np.zeros((nparams, 2), float)\n",
    "    for i in range(nparams):\n",
    "        ci = chain[:, i]\n",
    "        plt.sca(panels[i][i])\n",
    "        _, bins, _ = plt.hist(ci, bins = nbins)\n",
    "        minmax[i, 0] = bins[0]\n",
    "        minmax[i, 1] = bins[-1]\n",
    "        diff = minmax[i, 1] - minmax[i, 0]\n",
    "        minmax[i, 0] -= 0.03 * diff\n",
    "        minmax[i, 1] += 0.03 * diff\n",
    "        plt.xlim(minmax[i, 0], minmax[i, 1])\n",
    "\n",
    "    # Plot 2D histograms\n",
    "    for i in range(nparams):\n",
    "        ci = chain[:, i]\n",
    "        for j in range(nparams):\n",
    "            cj = chain[:, j]\n",
    "            if i > j:\n",
    "                plt.sca(panels[i][j])\n",
    "                plt.hist2d(cj, ci, bins = 100, norm = LogNorm(), normed = 1)\n",
    "                plt.ylim(minmax[i, 0], minmax[i, 1])\n",
    "                plt.xlim(minmax[j, 0], minmax[j, 1])\n",
    "\n",
    "    return"
   ]
  },
  {
   "cell_type": "markdown",
   "metadata": {},
   "source": [
    "This function is not part of the main body of Colossus because it relies on matplotlib. Here is its output for the chain above:"
   ]
  },
  {
   "cell_type": "code",
   "execution_count": 7,
   "metadata": {},
   "outputs": [
    {
     "data": {
      "image/png": "[encoded data removed]",
      "text/plain": [
       "<matplotlib.figure.Figure at 0x1139980b8>"
      ]
     },
     "metadata": {},
     "output_type": "display_data"
    }
   ],
   "source": [
    "plotChain(chain_full, param_names)\n",
    "plt.show()"
   ]
  }
 ],
 "metadata": {
  "kernelspec": {
   "display_name": "Python 3",
   "language": "python",
   "name": "python3"
  },
  "language_info": {
   "codemirror_mode": {
    "name": "ipython",
    "version": 3
   },
   "file_extension": ".py",
   "mimetype": "text/x-python",
   "name": "python",
   "nbconvert_exporter": "python",
   "pygments_lexer": "ipython3",
   "version": "3.5.4"
  }
 },
 "nbformat": 4,
 "nbformat_minor": 2
}
