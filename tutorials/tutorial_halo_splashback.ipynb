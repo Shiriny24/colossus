{
 "cells": [
  {
   "cell_type": "markdown",
   "metadata": {},
   "source": [
    "# Colossus tutorial: The splashback radius"
   ]
  },
  {
   "cell_type": "markdown",
   "metadata": {},
   "source": [
    "The splashback radius has recently been suggested as a physically motivated definition of the halo boundary. The corresponding Colossus module implements a number of fitting functions for the splashback radius as a function of conventional spherical overdensity definitions, redshift, and mass accretion rate."
   ]
  },
  {
   "cell_type": "code",
   "execution_count": null,
   "metadata": {
    "collapsed": true
   },
   "outputs": [],
   "source": [
    "from __future__ import print_function \n",
    "import numpy as np\n",
    "import matplotlib.pyplot as plt\n",
    "%matplotlib inline"
   ]
  },
  {
   "cell_type": "markdown",
   "metadata": {},
   "source": [
    "As always with colossus, we need to set a cosmology:"
   ]
  },
  {
   "cell_type": "code",
   "execution_count": null,
   "metadata": {
    "collapsed": true
   },
   "outputs": [],
   "source": [
    "from colossus.cosmology import cosmology\n",
    "cosmology.setCosmology('planck15');"
   ]
  },
  {
   "cell_type": "markdown",
   "metadata": {},
   "source": [
    "First, let's import the splashback module and print the names of all available splashback models:"
   ]
  },
  {
   "cell_type": "code",
   "execution_count": null,
   "metadata": {},
   "outputs": [],
   "source": [
    "from colossus.halo import splashback\n",
    "\n",
    "for model_name in splashback.models:\n",
    "    print(model_name)"
   ]
  },
  {
   "cell_type": "markdown",
   "metadata": {
    "collapsed": true
   },
   "source": [
    "Let's plot the splashback radius predictions of all models as a function of mass accretion rate for a halo with M200m = 1E12 at z = 0. Not all models may be able to predict Rsp at all mass accretion rates, masses, or redshifts, which is why the function returns a mask indicating which input parameters were valid. "
   ]
  },
  {
   "cell_type": "code",
   "execution_count": null,
   "metadata": {},
   "outputs": [],
   "source": [
    "from colossus.lss import lss\n",
    "\n",
    "cosmology.setCosmology('planck15')\n",
    "z = 0.0\n",
    "M200m = 1E12\n",
    "nu200m = lss.peakHeight(M200m, z)\n",
    "Gamma = np.arange(0.0, 5.1, 0.1)\n",
    "\n",
    "plt.figure()\n",
    "plt.xlabel('Accretion rate')\n",
    "plt.ylabel('Rsp/R200m')\n",
    "for model_name in splashback.models:\n",
    "    RspR200m, mask = splashback.splashbackModel('RspR200m', Gamma = Gamma, nu200m = nu200m, z = z, \n",
    "                                model = model_name, rspdef = 'percentile75', statistic = 'median')\n",
    "    plt.plot(Gamma[mask], RspR200m, label = model_name.replace('_', '\\_'))\n",
    "plt.legend();"
   ]
  },
  {
   "cell_type": "markdown",
   "metadata": {},
   "source": [
    "Note that this comparison is not quite accurate because the definitions of mass accretion rate vary between the models. Some models can also predict the splashback mass and radius based only on mass (or peak height). The capabilities of the models are recorded in the models dictionary which we check to filter for models that can handle 'nu200m' as an input quantity:"
   ]
  },
  {
   "cell_type": "code",
   "execution_count": null,
   "metadata": {},
   "outputs": [],
   "source": [
    "nu200m = np.arange(0.5, 4.1, 0.1)\n",
    "\n",
    "plt.figure()\n",
    "plt.xlabel('Peak height')\n",
    "plt.ylabel('Rsp/R200m')\n",
    "for model_name in splashback.models:\n",
    "    if 'nu200m' in splashback.models[model_name].qx:\n",
    "        RspR200m, mask = splashback.splashbackModel('RspR200m', nu200m = nu200m, z = z, \n",
    "                                    model = model_name, rspdef = 'percentile75', statistic = 'median')\n",
    "        plt.plot(nu200m[mask], RspR200m, label = model_name.replace('_', '\\_'))\n",
    "plt.legend();"
   ]
  }
 ],
 "metadata": {
  "kernelspec": {
   "display_name": "Python 3",
   "language": "python",
   "name": "python3"
  },
  "language_info": {
   "codemirror_mode": {
    "name": "ipython",
    "version": 3
   },
   "file_extension": ".py",
   "mimetype": "text/x-python",
   "name": "python",
   "nbconvert_exporter": "python",
   "pygments_lexer": "ipython3",
   "version": "3.5.3"
  }
 },
 "nbformat": 4,
 "nbformat_minor": 2
}
